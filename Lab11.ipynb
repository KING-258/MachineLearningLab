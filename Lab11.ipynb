{
 "cells": [
  {
   "cell_type": "markdown",
   "metadata": {},
   "source": [
    "# Lab 11"
   ]
  },
  {
   "cell_type": "markdown",
   "metadata": {},
   "source": [
    "#### Q1"
   ]
  },
  {
   "cell_type": "code",
   "execution_count": 1,
   "metadata": {},
   "outputs": [],
   "source": [
    "import pandas as pd\n",
    "import numpy as np\n",
    "import matplotlib.pyplot as plt\n",
    "from scipy.cluster.hierarchy import dendrogram, linkage\n",
    "from scipy.spatial.distance import pdist, squareform\n",
    "from sklearn.cluster import KMeans"
   ]
  },
  {
   "cell_type": "code",
   "execution_count": 2,
   "metadata": {},
   "outputs": [
    {
     "data": {
      "text/html": [
       "<div>\n",
       "<style scoped>\n",
       "    .dataframe tbody tr th:only-of-type {\n",
       "        vertical-align: middle;\n",
       "    }\n",
       "\n",
       "    .dataframe tbody tr th {\n",
       "        vertical-align: top;\n",
       "    }\n",
       "\n",
       "    .dataframe thead th {\n",
       "        text-align: right;\n",
       "    }\n",
       "</style>\n",
       "<table border=\"1\" class=\"dataframe\">\n",
       "  <thead>\n",
       "    <tr style=\"text-align: right;\">\n",
       "      <th></th>\n",
       "      <th>x</th>\n",
       "      <th>y</th>\n",
       "    </tr>\n",
       "  </thead>\n",
       "  <tbody>\n",
       "    <tr>\n",
       "      <th>0</th>\n",
       "      <td>1</td>\n",
       "      <td>1</td>\n",
       "    </tr>\n",
       "    <tr>\n",
       "      <th>1</th>\n",
       "      <td>3</td>\n",
       "      <td>2</td>\n",
       "    </tr>\n",
       "    <tr>\n",
       "      <th>2</th>\n",
       "      <td>9</td>\n",
       "      <td>1</td>\n",
       "    </tr>\n",
       "    <tr>\n",
       "      <th>3</th>\n",
       "      <td>3</td>\n",
       "      <td>7</td>\n",
       "    </tr>\n",
       "    <tr>\n",
       "      <th>4</th>\n",
       "      <td>7</td>\n",
       "      <td>2</td>\n",
       "    </tr>\n",
       "    <tr>\n",
       "      <th>5</th>\n",
       "      <td>9</td>\n",
       "      <td>7</td>\n",
       "    </tr>\n",
       "    <tr>\n",
       "      <th>6</th>\n",
       "      <td>4</td>\n",
       "      <td>8</td>\n",
       "    </tr>\n",
       "    <tr>\n",
       "      <th>7</th>\n",
       "      <td>8</td>\n",
       "      <td>3</td>\n",
       "    </tr>\n",
       "    <tr>\n",
       "      <th>8</th>\n",
       "      <td>1</td>\n",
       "      <td>4</td>\n",
       "    </tr>\n",
       "  </tbody>\n",
       "</table>\n",
       "</div>"
      ],
      "text/plain": [
       "   x  y\n",
       "0  1  1\n",
       "1  3  2\n",
       "2  9  1\n",
       "3  3  7\n",
       "4  7  2\n",
       "5  9  7\n",
       "6  4  8\n",
       "7  8  3\n",
       "8  1  4"
      ]
     },
     "execution_count": 2,
     "metadata": {},
     "output_type": "execute_result"
    }
   ],
   "source": [
    "data = pd.read_csv('Week11Q1.csv')\n",
    "data"
   ]
  },
  {
   "cell_type": "code",
   "execution_count": 3,
   "metadata": {},
   "outputs": [
    {
     "data": {
      "text/plain": [
       "array([[1, 1],\n",
       "       [3, 2],\n",
       "       [9, 1],\n",
       "       [3, 7],\n",
       "       [7, 2],\n",
       "       [9, 7],\n",
       "       [4, 8],\n",
       "       [8, 3],\n",
       "       [1, 4]])"
      ]
     },
     "execution_count": 3,
     "metadata": {},
     "output_type": "execute_result"
    }
   ],
   "source": [
    "points = data.values\n",
    "points"
   ]
  },
  {
   "cell_type": "code",
   "execution_count": 4,
   "metadata": {},
   "outputs": [],
   "source": [
    "def euclidean_distance(p1, p2):\n",
    "    return np.sqrt(np.sum((p1 - p2) ** 2))"
   ]
  },
  {
   "cell_type": "code",
   "execution_count": 5,
   "metadata": {},
   "outputs": [],
   "source": [
    "def distance_matrix(points):\n",
    "    num_points = points.shape[0]\n",
    "    dist_matrix = np.zeros((num_points, num_points))\n",
    "    for i in range(num_points):\n",
    "        for j in range(num_points):\n",
    "            dist_matrix[i, j] = euclidean_distance(points[i], points[j])\n",
    "    return dist_matrix"
   ]
  },
  {
   "cell_type": "code",
   "execution_count": 6,
   "metadata": {},
   "outputs": [],
   "source": [
    "def single_linkage(dist_matrix, clusters):\n",
    "    min_dist = float('inf')\n",
    "    cluster_pair = (-1, -1)\n",
    "    for i in range(len(clusters)):\n",
    "        for j in range(i + 1, len(clusters)):\n",
    "            dist = min(dist_matrix[clusters[i][:, None], clusters[j]].flatten())\n",
    "            if dist < min_dist:\n",
    "                min_dist = dist\n",
    "                cluster_pair = (i, j)\n",
    "    return cluster_pair, min_dist"
   ]
  },
  {
   "cell_type": "code",
   "execution_count": 7,
   "metadata": {},
   "outputs": [],
   "source": [
    "def complete_linkage(dist_matrix, clusters):\n",
    "    max_dist = float('-inf')\n",
    "    cluster_pair = (-1, -1)\n",
    "    for i in range(len(clusters)):\n",
    "        for j in range(i + 1, len(clusters)):\n",
    "            dist = max(dist_matrix[clusters[i][:, None], clusters[j]].flatten())\n",
    "            if dist > max_dist:\n",
    "                max_dist = dist\n",
    "                cluster_pair = (i, j)\n",
    "    return cluster_pair, max_dist"
   ]
  },
  {
   "cell_type": "code",
   "execution_count": 8,
   "metadata": {},
   "outputs": [],
   "source": [
    "def average_linkage(dist_matrix, clusters):\n",
    "    min_avg_dist = float('inf')\n",
    "    cluster_pair = (-1, -1)\n",
    "    for i in range(len(clusters)):\n",
    "        for j in range(i + 1, len(clusters)):\n",
    "            dist = np.mean(dist_matrix[clusters[i][:, None], clusters[j]].flatten())\n",
    "            if dist < min_avg_dist:\n",
    "                min_avg_dist = dist\n",
    "                cluster_pair = (i, j)\n",
    "    return cluster_pair, min_avg_dist"
   ]
  },
  {
   "cell_type": "code",
   "execution_count": 9,
   "metadata": {},
   "outputs": [],
   "source": [
    "def hierarchical_clustering(points, linkage_method):\n",
    "    num_points = points.shape[0]\n",
    "    dist_matrix = distance_matrix(points)\n",
    "    clusters = [np.array([i]) for i in range(num_points)]\n",
    "    while len(clusters) > 1:\n",
    "        if linkage_method == 1:\n",
    "            pair, min_dist = single_linkage(dist_matrix, clusters)\n",
    "        elif linkage_method == 2:\n",
    "            pair, min_dist = complete_linkage(dist_matrix, clusters)\n",
    "        elif linkage_method == 3:\n",
    "            pair, min_dist = average_linkage(dist_matrix, clusters)\n",
    "        new_cluster = np.concatenate((clusters[pair[0]], clusters[pair[1]]))\n",
    "        clusters.append(new_cluster)\n",
    "        clusters.pop(max(pair))\n",
    "        clusters.pop(min(pair))\n",
    "        print(f'Merged clusters: {pair} with distance: {min_dist}')"
   ]
  },
  {
   "cell_type": "code",
   "execution_count": 10,
   "metadata": {},
   "outputs": [
    {
     "name": "stdout",
     "output_type": "stream",
     "text": [
      "\n",
      "Single Linkage Clustering:\n",
      "Merged clusters: (3, 6) with distance: 1.4142135623730951\n",
      "Merged clusters: (3, 5) with distance: 1.4142135623730951\n",
      "Merged clusters: (0, 1) with distance: 2.23606797749979\n",
      "Merged clusters: (0, 4) with distance: 2.23606797749979\n",
      "Merged clusters: (1, 3) with distance: 2.8284271247461903\n",
      "Merged clusters: (1, 3) with distance: 3.605551275463989\n",
      "Merged clusters: (1, 2) with distance: 4.0\n",
      "Merged clusters: (0, 1) with distance: 4.123105625617661\n"
     ]
    }
   ],
   "source": [
    "print(\"\\nSingle Linkage Clustering:\")\n",
    "hierarchical_clustering(points, 1)"
   ]
  },
  {
   "cell_type": "code",
   "execution_count": 11,
   "metadata": {},
   "outputs": [
    {
     "name": "stdout",
     "output_type": "stream",
     "text": [
      "\n",
      "Complete Linkage Clustering:\n",
      "Merged clusters: (0, 5) with distance: 10.0\n",
      "Merged clusters: (1, 4) with distance: 8.602325267042627\n",
      "Merged clusters: (4, 5) with distance: 8.54400374531753\n",
      "Merged clusters: (4, 5) with distance: 8.54400374531753\n",
      "Merged clusters: (1, 4) with distance: 8.48528137423857\n",
      "Merged clusters: (0, 3) with distance: 7.810249675906654\n",
      "Merged clusters: (1, 2) with distance: 7.280109889280518\n",
      "Merged clusters: (0, 1) with distance: 6.708203932499369\n"
     ]
    }
   ],
   "source": [
    "print(\"\\nComplete Linkage Clustering:\")\n",
    "hierarchical_clustering(points, 2)"
   ]
  },
  {
   "cell_type": "code",
   "execution_count": 12,
   "metadata": {},
   "outputs": [
    {
     "name": "stdout",
     "output_type": "stream",
     "text": [
      "\n",
      "Average Linkage Clustering:\n",
      "Merged clusters: (3, 6) with distance: 1.4142135623730951\n",
      "Merged clusters: (3, 5) with distance: 1.4142135623730951\n",
      "Merged clusters: (0, 1) with distance: 2.23606797749979\n",
      "Merged clusters: (0, 4) with distance: 2.23606797749979\n",
      "Merged clusters: (1, 3) with distance: 2.914213562373095\n",
      "Merged clusters: (0, 2) with distance: 5.169423477584055\n",
      "Merged clusters: (0, 1) with distance: 5.604773705327147\n",
      "Merged clusters: (0, 1) with distance: 6.9471368780942795\n"
     ]
    }
   ],
   "source": [
    "print(\"\\nAverage Linkage Clustering:\")\n",
    "hierarchical_clustering(points, 3)"
   ]
  },
  {
   "cell_type": "markdown",
   "metadata": {},
   "source": [
    "#### Q2"
   ]
  },
  {
   "cell_type": "code",
   "execution_count": 13,
   "metadata": {},
   "outputs": [],
   "source": [
    "def calculate_sse(points, labels):\n",
    "    sse = 0\n",
    "    for cluster in np.unique(labels):\n",
    "        cluster_points = points[labels == cluster]\n",
    "        centroid = np.mean(cluster_points, axis=0)\n",
    "        sse += np.sum((cluster_points - centroid) ** 2)\n",
    "    return sse"
   ]
  },
  {
   "cell_type": "code",
   "execution_count": 14,
   "metadata": {},
   "outputs": [],
   "source": [
    "def proximity_matrix(points, metric):\n",
    "    if metric == 'euclidean':\n",
    "        return squareform(pdist(points, metric='euclidean'))\n",
    "    elif metric == 'manhattan':\n",
    "        return squareform(pdist(points, metric='cityblock'))\n",
    "    elif metric == 'minkowski':\n",
    "        return squareform(pdist(points, metric='minkowski', p=3))\n",
    "    else:\n",
    "        raise ValueError(\"Metric not supported.\")"
   ]
  },
  {
   "cell_type": "code",
   "execution_count": 15,
   "metadata": {},
   "outputs": [],
   "source": [
    "def plot_sse(points):\n",
    "    sse_values = []\n",
    "    max_clusters = min(10, len(points))\n",
    "    for k in range(1, max_clusters + 1):\n",
    "        kmeans = KMeans(n_clusters=k, random_state=42)\n",
    "        kmeans.fit(points)\n",
    "        sse = kmeans.inertia_\n",
    "        sse_values.append(sse)\n",
    "    plt.figure()\n",
    "    plt.plot(range(1, max_clusters + 1), sse_values, marker='o')\n",
    "    plt.title('Number of Clusters vs SSE')\n",
    "    plt.xlabel('Number of Clusters')\n",
    "    plt.ylabel('Sum of Squared Errors (SSE)')\n",
    "    plt.xticks(range(1, max_clusters + 1))\n",
    "    plt.grid()\n",
    "    plt.show()\n"
   ]
  },
  {
   "cell_type": "code",
   "execution_count": 16,
   "metadata": {},
   "outputs": [],
   "source": [
    "def plot_dendrogram(points):\n",
    "    plt.figure(figsize=(15, 10))\n",
    "    linkage_methods = ['single', 'complete', 'average']\n",
    "    for i, method in enumerate(linkage_methods):\n",
    "        plt.subplot(2, 3, i + 1)\n",
    "        Z = linkage(points, method=method)\n",
    "        dendrogram(Z, labels=data.index + 1)\n",
    "        plt.title(f'Dendrogram - {method.capitalize()} Linkage')\n",
    "        plt.xlabel('Index')\n",
    "        plt.grid()\n",
    "        plt.ylabel('Distance')\n",
    "    plt.tight_layout()\n",
    "    plt.show()"
   ]
  },
  {
   "cell_type": "code",
   "execution_count": 17,
   "metadata": {},
   "outputs": [
    {
     "data": {
      "image/png": "[encoded data removed]",
      "text/plain": [
       "<Figure size 640x480 with 1 Axes>"
      ]
     },
     "metadata": {},
     "output_type": "display_data"
    }
   ],
   "source": [
    "plot_sse(data.values)"
   ]
  },
  {
   "cell_type": "code",
   "execution_count": 18,
   "metadata": {},
   "outputs": [
    {
     "name": "stdout",
     "output_type": "stream",
     "text": [
      "Euclidean Distance Proximity Matrix:\n",
      " [[ 0.          2.23606798  8.          6.32455532  6.08276253 10.\n",
      "   7.61577311  7.28010989  3.        ]\n",
      " [ 2.23606798  0.          6.08276253  5.          4.          7.81024968\n",
      "   6.08276253  5.09901951  2.82842712]\n",
      " [ 8.          6.08276253  0.          8.48528137  2.23606798  6.\n",
      "   8.60232527  2.23606798  8.54400375]\n",
      " [ 6.32455532  5.          8.48528137  0.          6.40312424  6.\n",
      "   1.41421356  6.40312424  3.60555128]\n",
      " [ 6.08276253  4.          2.23606798  6.40312424  0.          5.38516481\n",
      "   6.70820393  1.41421356  6.32455532]\n",
      " [10.          7.81024968  6.          6.          5.38516481  0.\n",
      "   5.09901951  4.12310563  8.54400375]\n",
      " [ 7.61577311  6.08276253  8.60232527  1.41421356  6.70820393  5.09901951\n",
      "   0.          6.40312424  5.        ]\n",
      " [ 7.28010989  5.09901951  2.23606798  6.40312424  1.41421356  4.12310563\n",
      "   6.40312424  0.          7.07106781]\n",
      " [ 3.          2.82842712  8.54400375  3.60555128  6.32455532  8.54400375\n",
      "   5.          7.07106781  0.        ]]\n"
     ]
    }
   ],
   "source": [
    "print(\"Euclidean Distance Proximity Matrix:\\n\", proximity_matrix(points, 'euclidean'))"
   ]
  },
  {
   "cell_type": "code",
   "execution_count": 19,
   "metadata": {},
   "outputs": [
    {
     "name": "stdout",
     "output_type": "stream",
     "text": [
      "\n",
      "Manhattan Distance Proximity Matrix:\n",
      " [[ 0.  3.  8.  8.  7. 14. 10.  9.  3.]\n",
      " [ 3.  0.  7.  5.  4. 11.  7.  6.  4.]\n",
      " [ 8.  7.  0. 12.  3.  6. 12.  3. 11.]\n",
      " [ 8.  5. 12.  0.  9.  6.  2.  9.  5.]\n",
      " [ 7.  4.  3.  9.  0.  7.  9.  2.  8.]\n",
      " [14. 11.  6.  6.  7.  0.  6.  5. 11.]\n",
      " [10.  7. 12.  2.  9.  6.  0.  9.  7.]\n",
      " [ 9.  6.  3.  9.  2.  5.  9.  0.  8.]\n",
      " [ 3.  4. 11.  5.  8. 11.  7.  8.  0.]]\n"
     ]
    }
   ],
   "source": [
    "print(\"\\nManhattan Distance Proximity Matrix:\\n\", proximity_matrix(points, 'manhattan'))"
   ]
  },
  {
   "cell_type": "code",
   "execution_count": 20,
   "metadata": {},
   "outputs": [
    {
     "name": "stdout",
     "output_type": "stream",
     "text": [
      "\n",
      "Minkowski Distance Proximity Matrix:\n",
      " [[0.         2.08008382 8.         6.07317794 6.00924501 8.99588289\n",
      "  7.17905435 7.05400406 3.        ]\n",
      " [2.08008382 0.         6.00924501 5.         4.         6.98636803\n",
      "  6.00924501 5.01329793 2.5198421 ]\n",
      " [8.         6.00924501 0.         7.5595263  2.08008382 6.\n",
      "  7.76393608 2.08008382 8.13822304]\n",
      " [6.07317794 5.         7.5595263  0.         5.73879355 6.\n",
      "  1.25992105 5.73879355 3.27106631]\n",
      " [6.00924501 4.         2.08008382 5.73879355 0.         5.10446872\n",
      "  6.24025147 1.25992105 6.07317794]\n",
      " [8.99588289 6.98636803 6.         6.         5.10446872 0.\n",
      "  5.01329793 4.02072576 8.13822304]\n",
      " [7.17905435 6.00924501 7.76393608 1.25992105 6.24025147 5.01329793\n",
      "  0.         5.73879355 4.49794145]\n",
      " [7.05400406 5.01329793 2.08008382 5.73879355 1.25992105 4.02072576\n",
      "  5.73879355 0.         7.00679612]\n",
      " [3.         2.5198421  8.13822304 3.27106631 6.07317794 8.13822304\n",
      "  4.49794145 7.00679612 0.        ]]\n"
     ]
    }
   ],
   "source": [
    "print(\"\\nMinkowski Distance Proximity Matrix:\\n\", proximity_matrix(points, 'minkowski'))"
   ]
  },
  {
   "cell_type": "code",
   "execution_count": 21,
   "metadata": {},
   "outputs": [
    {
     "data": {
      "image/png": "[encoded data removed]",
      "text/plain": [
       "<Figure size 1500x1000 with 3 Axes>"
      ]
     },
     "metadata": {},
     "output_type": "display_data"
    }
   ],
   "source": [
    "plot_dendrogram(points)"
   ]
  },
  {
   "cell_type": "code",
   "execution_count": null,
   "metadata": {},
   "outputs": [],
   "source": []
  }
 ],
 "metadata": {
  "kernelspec": {
   "display_name": "Python 3",
   "language": "python",
   "name": "python3"
  },
  "language_info": {
   "codemirror_mode": {
    "name": "ipython",
    "version": 3
   },
   "file_extension": ".py",
   "mimetype": "text/x-python",
   "name": "python",
   "nbconvert_exporter": "python",
   "pygments_lexer": "ipython3",
   "version": "3.12.3"
  }
 },
 "nbformat": 4,
 "nbformat_minor": 2
}
