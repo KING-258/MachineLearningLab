{
 "cells": [
  {
   "cell_type": "markdown",
   "metadata": {},
   "source": [
    "##### Q1"
   ]
  },
  {
   "cell_type": "code",
   "execution_count": 1,
   "metadata": {},
   "outputs": [],
   "source": [
    "import pandas as pd\n",
    "from collections import defaultdict\n",
    "import numpy as np\n",
    "from collections import defaultdict\n",
    "from typing import List, Dict\n"
   ]
  },
  {
   "cell_type": "markdown",
   "metadata": {},
   "source": [
    "##### (a)"
   ]
  },
  {
   "cell_type": "code",
   "execution_count": 2,
   "metadata": {},
   "outputs": [],
   "source": [
    "P_hosteler = 0.60\n",
    "P_day_scholar = 0.40\n",
    "P_A_given_hosteler = 0.30\n",
    "P_A_given_day_scholar = 0.20\n",
    "P_A = (P_A_given_hosteler * P_hosteler) + (P_A_given_day_scholar * P_day_scholar)\n",
    "P_hosteler_given_A = (P_A_given_hosteler * P_hosteler) / P_A"
   ]
  },
  {
   "cell_type": "code",
   "execution_count": 3,
   "metadata": {},
   "outputs": [
    {
     "data": {
      "text/plain": [
       "0.6923076923076923"
      ]
     },
     "execution_count": 3,
     "metadata": {},
     "output_type": "execute_result"
    }
   ],
   "source": [
    "P_hosteler_given_A"
   ]
  },
  {
   "cell_type": "markdown",
   "metadata": {},
   "source": [
    "##### (b)"
   ]
  },
  {
   "cell_type": "code",
   "execution_count": 4,
   "metadata": {},
   "outputs": [],
   "source": [
    "P_disease = 0.01\n",
    "P_no_disease = 0.99\n",
    "P_positive_given_disease = 0.99\n",
    "P_positive_given_no_disease = 0.02\n",
    "P_positive_test = (P_positive_given_disease * P_disease) + (P_positive_given_no_disease * P_no_disease)\n",
    "P_disease_given_positive = (P_positive_given_disease * P_disease) / P_positive_test"
   ]
  },
  {
   "cell_type": "code",
   "execution_count": 5,
   "metadata": {},
   "outputs": [
    {
     "data": {
      "text/plain": [
       "0.3333333333333333"
      ]
     },
     "execution_count": 5,
     "metadata": {},
     "output_type": "execute_result"
    }
   ],
   "source": [
    "P_disease_given_positive"
   ]
  },
  {
   "cell_type": "markdown",
   "metadata": {},
   "source": [
    "##### Q2"
   ]
  },
  {
   "cell_type": "code",
   "execution_count": 6,
   "metadata": {},
   "outputs": [],
   "source": [
    "data = pd.read_csv('Week7Q2.csv')\n",
    "features = ['age', 'income', 'student', 'credit']\n",
    "target = 'computer'"
   ]
  },
  {
   "cell_type": "code",
   "execution_count": 7,
   "metadata": {},
   "outputs": [],
   "source": [
    "class_counts = data[target].value_counts()\n",
    "total_samples = len(data)"
   ]
  },
  {
   "cell_type": "code",
   "execution_count": 8,
   "metadata": {},
   "outputs": [],
   "source": [
    "priors = class_counts / total_samples\n",
    "likelihoods = {}"
   ]
  },
  {
   "cell_type": "code",
   "execution_count": 9,
   "metadata": {},
   "outputs": [],
   "source": [
    "for feature in features:\n",
    "    feature_likelihoods = defaultdict(lambda: defaultdict(int))\n",
    "    for (feature_value, target_value), count in data.groupby([feature, target]).size().items():\n",
    "        feature_likelihoods[feature_value][target_value] = count / class_counts[target_value]\n",
    "    likelihoods[feature] = feature_likelihoods"
   ]
  },
  {
   "cell_type": "code",
   "execution_count": 10,
   "metadata": {},
   "outputs": [],
   "source": [
    "# likelihoods"
   ]
  },
  {
   "cell_type": "code",
   "execution_count": 11,
   "metadata": {},
   "outputs": [],
   "source": [
    "age = int(input(\"Age (0, 1, 2): \"))\n",
    "income = int(input(\"Income (0 = low, 1 = medium, 2 = high): \"))\n",
    "student = int(input(\"Student (0 = no, 1 = yes): \"))\n",
    "credit = int(input(\"Credit (0 = fair, 1 = excellent): \"))\n",
    "sample = {\n",
    "    'age': age,\n",
    "    'income': income,\n",
    "    'student': student,\n",
    "    'credit': credit\n",
    "}"
   ]
  },
  {
   "cell_type": "code",
   "execution_count": 12,
   "metadata": {},
   "outputs": [],
   "source": [
    "posteriors = {}\n",
    "for class_value in class_counts.index:\n",
    "    prior = priors[class_value]\n",
    "    likelihood = prior\n",
    "    for feature in features:\n",
    "        feature_value = sample[feature]\n",
    "        feature_likelihood = likelihoods[feature].get(feature_value, {}).get(class_value, 1e-6)\n",
    "        likelihood *= feature_likelihood\n",
    "    posteriors[class_value] = likelihood"
   ]
  },
  {
   "cell_type": "code",
   "execution_count": 13,
   "metadata": {},
   "outputs": [
    {
     "data": {
      "text/plain": [
       "{'age': 1, 'income': 0, 'student': 1, 'credit': 1}"
      ]
     },
     "execution_count": 13,
     "metadata": {},
     "output_type": "execute_result"
    }
   ],
   "source": [
    "sample"
   ]
  },
  {
   "cell_type": "code",
   "execution_count": 14,
   "metadata": {},
   "outputs": [],
   "source": [
    "prediction = max(posteriors, key=posteriors.get)"
   ]
  },
  {
   "cell_type": "code",
   "execution_count": 15,
   "metadata": {},
   "outputs": [
    {
     "name": "stdout",
     "output_type": "stream",
     "text": [
      "!!!Computer!!!\n"
     ]
    }
   ],
   "source": [
    "if prediction == 0:\n",
    "    print(\"!!!No Computer!!!\")\n",
    "else:\n",
    "    print(\"!!!Computer!!!\")"
   ]
  },
  {
   "cell_type": "markdown",
   "metadata": {},
   "source": [
    "##### Q3"
   ]
  },
  {
   "cell_type": "code",
   "execution_count": 16,
   "metadata": {},
   "outputs": [],
   "source": [
    "training_data = pd.read_csv('Week7Q3.csv')\n",
    "X = training_data['Text']\n",
    "y = training_data['Tag']"
   ]
  },
  {
   "cell_type": "code",
   "execution_count": 17,
   "metadata": {},
   "outputs": [],
   "source": [
    "train_size = int(0.8 * len(X))\n",
    "X_train, X_test = X[:train_size], X[train_size:]\n",
    "y_train, y_test = y[:train_size], y[train_size:]"
   ]
  },
  {
   "cell_type": "code",
   "execution_count": 18,
   "metadata": {},
   "outputs": [],
   "source": [
    "class_priors = {}\n",
    "word_freqs = defaultdict(lambda: defaultdict(int))\n",
    "vocab = set()"
   ]
  },
  {
   "cell_type": "code",
   "execution_count": 19,
   "metadata": {},
   "outputs": [],
   "source": [
    "class_counts = y_train.value_counts().to_dict()\n",
    "total_count = len(y_train)"
   ]
  },
  {
   "cell_type": "code",
   "execution_count": 20,
   "metadata": {},
   "outputs": [],
   "source": [
    "for cls in class_counts.keys():\n",
    "    class_priors[cls] = class_counts[cls] / total_count"
   ]
  },
  {
   "cell_type": "code",
   "execution_count": 21,
   "metadata": {},
   "outputs": [
    {
     "data": {
      "text/plain": [
       "{'Sports': 0.75, 'Not sports': 0.25}"
      ]
     },
     "execution_count": 21,
     "metadata": {},
     "output_type": "execute_result"
    }
   ],
   "source": [
    "class_priors"
   ]
  },
  {
   "cell_type": "code",
   "execution_count": 22,
   "metadata": {},
   "outputs": [],
   "source": [
    "for text, cls in zip(X_train, y_train):\n",
    "    words = text.lower().split()\n",
    "    for word in words:\n",
    "        word_freqs[cls][word] += 1\n",
    "        vocab.add(word)"
   ]
  },
  {
   "cell_type": "code",
   "execution_count": 23,
   "metadata": {},
   "outputs": [
    {
     "data": {
      "text/plain": [
       "{'but',\n",
       " 'clean',\n",
       " 'election',\n",
       " 'forgettable',\n",
       " 'game”',\n",
       " 'great',\n",
       " 'match”',\n",
       " 'over”',\n",
       " 'was',\n",
       " '“a',\n",
       " '“the',\n",
       " '“very'}"
      ]
     },
     "execution_count": 23,
     "metadata": {},
     "output_type": "execute_result"
    }
   ],
   "source": [
    "vocab"
   ]
  },
  {
   "cell_type": "code",
   "execution_count": 24,
   "metadata": {},
   "outputs": [
    {
     "data": {
      "text/plain": [
       "defaultdict(<function __main__.<lambda>()>,\n",
       "            {'Sports': defaultdict(int,\n",
       "                         {'“a': 2,\n",
       "                          'great': 1,\n",
       "                          'game”': 2,\n",
       "                          '“very': 1,\n",
       "                          'clean': 2,\n",
       "                          'match”': 1,\n",
       "                          'but': 1,\n",
       "                          'forgettable': 1}),\n",
       "             'Not sports': defaultdict(int,\n",
       "                         {'“the': 1, 'election': 1, 'was': 1, 'over”': 1})})"
      ]
     },
     "execution_count": 24,
     "metadata": {},
     "output_type": "execute_result"
    }
   ],
   "source": [
    "word_freqs"
   ]
  },
  {
   "cell_type": "code",
   "execution_count": 25,
   "metadata": {},
   "outputs": [],
   "source": [
    "def predict(text: str) -> str:\n",
    "    words = text.lower().split()\n",
    "    class_scores = {}\n",
    "    for cls in class_priors.keys():\n",
    "        score = np.log(class_priors[cls])\n",
    "        total_words = sum(word_freqs[cls].values())\n",
    "        for word in words:\n",
    "            word_prob = (word_freqs[cls][word] + 1) / (total_words + len(vocab))\n",
    "            score += np.log(word_prob)\n",
    "        class_scores[cls] = score\n",
    "    return max(class_scores, key=class_scores.get)"
   ]
  },
  {
   "cell_type": "code",
   "execution_count": 26,
   "metadata": {},
   "outputs": [],
   "source": [
    "y_pred = [predict(text) for text in X_test]"
   ]
  },
  {
   "cell_type": "code",
   "execution_count": 27,
   "metadata": {},
   "outputs": [
    {
     "name": "stdout",
     "output_type": "stream",
     "text": [
      "True Labels: ['Not sports']\n",
      "Predicted Labels: ['Not sports']\n"
     ]
    }
   ],
   "source": [
    "print(\"True Labels:\", y_test.tolist())\n",
    "print(\"Predicted Labels:\", y_pred)"
   ]
  },
  {
   "cell_type": "code",
   "execution_count": 28,
   "metadata": {},
   "outputs": [],
   "source": [
    "y_true_list = y_test.tolist()"
   ]
  },
  {
   "cell_type": "code",
   "execution_count": 29,
   "metadata": {},
   "outputs": [],
   "source": [
    "correct_predictions = sum(t == p for t, p in zip(y_true_list, y_pred))\n",
    "accuracy = correct_predictions / len(y_true_list)"
   ]
  },
  {
   "cell_type": "code",
   "execution_count": 30,
   "metadata": {},
   "outputs": [
    {
     "data": {
      "text/plain": [
       "1.0"
      ]
     },
     "execution_count": 30,
     "metadata": {},
     "output_type": "execute_result"
    }
   ],
   "source": [
    "accuracy"
   ]
  },
  {
   "cell_type": "code",
   "execution_count": 31,
   "metadata": {},
   "outputs": [],
   "source": [
    "tp = sum((t == 'Sports' and p == 'Sports') for t, p in zip(y_true_list, y_pred))\n",
    "fp = sum((t != 'Sports' and p == 'Sports') for t, p in zip(y_true_list, y_pred))\n",
    "fn = sum((t == 'Sports' and p != 'Sports') for t, p in zip(y_true_list, y_pred))\n",
    "tn = sum((t != 'Sports' and p != 'Sports') for t, p in zip(y_true_list, y_pred))"
   ]
  },
  {
   "cell_type": "code",
   "execution_count": 32,
   "metadata": {},
   "outputs": [],
   "source": [
    "precision = tp / (tp + fp) if (tp + fp) > 0 else 0\n",
    "recall = tp / (tp + fn) if (tp + fn) > 0 else 0"
   ]
  },
  {
   "cell_type": "code",
   "execution_count": 33,
   "metadata": {},
   "outputs": [
    {
     "data": {
      "text/plain": [
       "0"
      ]
     },
     "execution_count": 33,
     "metadata": {},
     "output_type": "execute_result"
    }
   ],
   "source": [
    "precision"
   ]
  },
  {
   "cell_type": "code",
   "execution_count": 34,
   "metadata": {},
   "outputs": [
    {
     "data": {
      "text/plain": [
       "0"
      ]
     },
     "execution_count": 34,
     "metadata": {},
     "output_type": "execute_result"
    }
   ],
   "source": [
    "recall"
   ]
  },
  {
   "cell_type": "code",
   "execution_count": 35,
   "metadata": {},
   "outputs": [
    {
     "name": "stdout",
     "output_type": "stream",
     "text": [
      "The sentence 'Game was very boring' is classified as: Not sports\n"
     ]
    }
   ],
   "source": [
    "new_sentence = \"Game was very boring\"\n",
    "predicted_tag = predict(new_sentence)\n",
    "print(f\"The sentence '{new_sentence}' is classified as: {predicted_tag}\")"
   ]
  },
  {
   "cell_type": "code",
   "execution_count": null,
   "metadata": {},
   "outputs": [],
   "source": []
  }
 ],
 "metadata": {
  "kernelspec": {
   "display_name": "Python 3",
   "language": "python",
   "name": "python3"
  },
  "language_info": {
   "codemirror_mode": {
    "name": "ipython",
    "version": 3
   },
   "file_extension": ".py",
   "mimetype": "text/x-python",
   "name": "python",
   "nbconvert_exporter": "python",
   "pygments_lexer": "ipython3",
   "version": "3.12.3"
  }
 },
 "nbformat": 4,
 "nbformat_minor": 2
}
