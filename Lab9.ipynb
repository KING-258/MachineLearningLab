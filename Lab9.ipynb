{
 "cells": [
  {
   "cell_type": "markdown",
   "metadata": {},
   "source": [
    "# Lab 09"
   ]
  },
  {
   "cell_type": "markdown",
   "metadata": {},
   "source": [
    "#### Q1"
   ]
  },
  {
   "cell_type": "code",
   "execution_count": 1,
   "metadata": {},
   "outputs": [],
   "source": [
    "import pandas as pd\n",
    "import numpy as np"
   ]
  },
  {
   "cell_type": "code",
   "execution_count": 2,
   "metadata": {},
   "outputs": [],
   "source": [
    "class DecisionTreeNode:\n",
    "    def __init__(self, attribute=None, value=None, left=None, right=None, label=None):\n",
    "        self.attribute = attribute\n",
    "        self.value = value\n",
    "        self.left = left\n",
    "        self.right = right\n",
    "        self.label = label  "
   ]
  },
  {
   "cell_type": "code",
   "execution_count": 3,
   "metadata": {},
   "outputs": [],
   "source": [
    "class DecisionTree:\n",
    "    def __init__(self):\n",
    "        self.root = None\n",
    "    def fit(self, data):\n",
    "        self.root = self.build_tree(data)\n",
    "    def entropy(self, labels):\n",
    "        value_counts = labels.value_counts(normalize=True)\n",
    "        return -np.sum(value_counts * np.log2(value_counts + 1e-9))\n",
    "    def information_gain(self, data, split_attribute, target):\n",
    "        totalentropy = self.entropy(data[target])\n",
    "        value_counts = data[split_attribute].value_counts(normalize=True)\n",
    "        weightedentropy = sum(value_counts[v] * self.entropy(data[data[split_attribute] == v][target]) for v in value_counts.index)\n",
    "        return totalentropy - weightedentropy\n",
    "    def best_split(self, data, target):\n",
    "        best_gain = -1\n",
    "        best_attribute = None\n",
    "        for attribute in data.columns[:-1]:\n",
    "            gain = self.information_gain(data, attribute, target)\n",
    "            if gain > best_gain:\n",
    "                best_gain = gain\n",
    "                best_attribute = attribute\n",
    "        return best_attribute\n",
    "    def build_tree(self, data):\n",
    "        target = data.columns[-1]\n",
    "        labels = data[target]\n",
    "        if len(labels.unique()) == 1:\n",
    "            return DecisionTreeNode(label=labels.iloc[0])\n",
    "        if len(data.columns) == 1:\n",
    "            return DecisionTreeNode(label=labels.mode()[0])\n",
    "        best_attribute = self.best_split(data, target)\n",
    "        node = DecisionTreeNode(attribute=best_attribute)\n",
    "        for value in data[best_attribute].unique():\n",
    "            subset = data[data[best_attribute] == value]\n",
    "            child_node = self.build_tree(subset.drop(columns=[best_attribute]))\n",
    "            if node.left is None:\n",
    "                node.left = child_node\n",
    "                node.value = value\n",
    "            else:\n",
    "                node.right = child_node\n",
    "        return node\n",
    "    def classify(self, node, sample):\n",
    "        if node.label is not None:\n",
    "            return node.label\n",
    "        attribute_value = sample[node.attribute]\n",
    "        if attribute_value == node.value:\n",
    "            return self.classify(node.left, sample) if node.left else node.label\n",
    "        else:\n",
    "            return self.classify(node.right, sample) if node.right else node.label\n",
    "    def predict(self, sample):\n",
    "        return self.classify(self.root, sample)"
   ]
  },
  {
   "cell_type": "code",
   "execution_count": 4,
   "metadata": {},
   "outputs": [],
   "source": [
    "data = {\n",
    "    'Outlook': ['Sunny', 'Sunny', 'Overcast', 'Rain', 'Rain', 'Rain', 'Overcast', \n",
    "                'Sunny', 'Sunny', 'Rain', 'Sunny', 'Overcast', 'Overcast', 'Rain'],\n",
    "    'Temp': [85, 80, 83, 70, 68, 65, 64, 72, 69, 75, 75, 72, 81, 71],\n",
    "    'Humidity': [85, 90, 78, 96, 80, 70, 65, 95, 70, 80, 70, 90, 75, 80],\n",
    "    'Wind': ['Weak', 'Strong', 'Weak', 'Weak', 'Weak', 'Strong', 'Strong', 'Weak', \n",
    "             'Weak', 'Weak', 'Strong', 'Strong', 'Weak', 'Strong'],\n",
    "    'Play': ['No', 'No', 'Yes', 'Yes', 'Yes', 'No', 'Yes', 'No', 'Yes', 'Yes', \n",
    "             'Yes', 'Yes', 'Yes', 'No']\n",
    "}"
   ]
  },
  {
   "cell_type": "code",
   "execution_count": 5,
   "metadata": {},
   "outputs": [
    {
     "data": {
      "text/html": [
       "<div>\n",
       "<style scoped>\n",
       "    .dataframe tbody tr th:only-of-type {\n",
       "        vertical-align: middle;\n",
       "    }\n",
       "\n",
       "    .dataframe tbody tr th {\n",
       "        vertical-align: top;\n",
       "    }\n",
       "\n",
       "    .dataframe thead th {\n",
       "        text-align: right;\n",
       "    }\n",
       "</style>\n",
       "<table border=\"1\" class=\"dataframe\">\n",
       "  <thead>\n",
       "    <tr style=\"text-align: right;\">\n",
       "      <th></th>\n",
       "      <th>Outlook</th>\n",
       "      <th>Temp</th>\n",
       "      <th>Humidity</th>\n",
       "      <th>Wind</th>\n",
       "      <th>Play</th>\n",
       "    </tr>\n",
       "  </thead>\n",
       "  <tbody>\n",
       "    <tr>\n",
       "      <th>0</th>\n",
       "      <td>Sunny</td>\n",
       "      <td>85</td>\n",
       "      <td>85</td>\n",
       "      <td>Weak</td>\n",
       "      <td>No</td>\n",
       "    </tr>\n",
       "    <tr>\n",
       "      <th>1</th>\n",
       "      <td>Sunny</td>\n",
       "      <td>80</td>\n",
       "      <td>90</td>\n",
       "      <td>Strong</td>\n",
       "      <td>No</td>\n",
       "    </tr>\n",
       "    <tr>\n",
       "      <th>2</th>\n",
       "      <td>Overcast</td>\n",
       "      <td>83</td>\n",
       "      <td>78</td>\n",
       "      <td>Weak</td>\n",
       "      <td>Yes</td>\n",
       "    </tr>\n",
       "    <tr>\n",
       "      <th>3</th>\n",
       "      <td>Rain</td>\n",
       "      <td>70</td>\n",
       "      <td>96</td>\n",
       "      <td>Weak</td>\n",
       "      <td>Yes</td>\n",
       "    </tr>\n",
       "    <tr>\n",
       "      <th>4</th>\n",
       "      <td>Rain</td>\n",
       "      <td>68</td>\n",
       "      <td>80</td>\n",
       "      <td>Weak</td>\n",
       "      <td>Yes</td>\n",
       "    </tr>\n",
       "    <tr>\n",
       "      <th>5</th>\n",
       "      <td>Rain</td>\n",
       "      <td>65</td>\n",
       "      <td>70</td>\n",
       "      <td>Strong</td>\n",
       "      <td>No</td>\n",
       "    </tr>\n",
       "    <tr>\n",
       "      <th>6</th>\n",
       "      <td>Overcast</td>\n",
       "      <td>64</td>\n",
       "      <td>65</td>\n",
       "      <td>Strong</td>\n",
       "      <td>Yes</td>\n",
       "    </tr>\n",
       "    <tr>\n",
       "      <th>7</th>\n",
       "      <td>Sunny</td>\n",
       "      <td>72</td>\n",
       "      <td>95</td>\n",
       "      <td>Weak</td>\n",
       "      <td>No</td>\n",
       "    </tr>\n",
       "    <tr>\n",
       "      <th>8</th>\n",
       "      <td>Sunny</td>\n",
       "      <td>69</td>\n",
       "      <td>70</td>\n",
       "      <td>Weak</td>\n",
       "      <td>Yes</td>\n",
       "    </tr>\n",
       "    <tr>\n",
       "      <th>9</th>\n",
       "      <td>Rain</td>\n",
       "      <td>75</td>\n",
       "      <td>80</td>\n",
       "      <td>Weak</td>\n",
       "      <td>Yes</td>\n",
       "    </tr>\n",
       "    <tr>\n",
       "      <th>10</th>\n",
       "      <td>Sunny</td>\n",
       "      <td>75</td>\n",
       "      <td>70</td>\n",
       "      <td>Strong</td>\n",
       "      <td>Yes</td>\n",
       "    </tr>\n",
       "    <tr>\n",
       "      <th>11</th>\n",
       "      <td>Overcast</td>\n",
       "      <td>72</td>\n",
       "      <td>90</td>\n",
       "      <td>Strong</td>\n",
       "      <td>Yes</td>\n",
       "    </tr>\n",
       "    <tr>\n",
       "      <th>12</th>\n",
       "      <td>Overcast</td>\n",
       "      <td>81</td>\n",
       "      <td>75</td>\n",
       "      <td>Weak</td>\n",
       "      <td>Yes</td>\n",
       "    </tr>\n",
       "    <tr>\n",
       "      <th>13</th>\n",
       "      <td>Rain</td>\n",
       "      <td>71</td>\n",
       "      <td>80</td>\n",
       "      <td>Strong</td>\n",
       "      <td>No</td>\n",
       "    </tr>\n",
       "  </tbody>\n",
       "</table>\n",
       "</div>"
      ],
      "text/plain": [
       "     Outlook  Temp  Humidity    Wind Play\n",
       "0      Sunny    85        85    Weak   No\n",
       "1      Sunny    80        90  Strong   No\n",
       "2   Overcast    83        78    Weak  Yes\n",
       "3       Rain    70        96    Weak  Yes\n",
       "4       Rain    68        80    Weak  Yes\n",
       "5       Rain    65        70  Strong   No\n",
       "6   Overcast    64        65  Strong  Yes\n",
       "7      Sunny    72        95    Weak   No\n",
       "8      Sunny    69        70    Weak  Yes\n",
       "9       Rain    75        80    Weak  Yes\n",
       "10     Sunny    75        70  Strong  Yes\n",
       "11  Overcast    72        90  Strong  Yes\n",
       "12  Overcast    81        75    Weak  Yes\n",
       "13      Rain    71        80  Strong   No"
      ]
     },
     "execution_count": 5,
     "metadata": {},
     "output_type": "execute_result"
    }
   ],
   "source": [
    "df = pd.DataFrame(data)\n",
    "df"
   ]
  },
  {
   "cell_type": "code",
   "execution_count": 6,
   "metadata": {},
   "outputs": [],
   "source": [
    "tree = DecisionTree()\n",
    "tree.fit(df)"
   ]
  },
  {
   "cell_type": "code",
   "execution_count": 7,
   "metadata": {},
   "outputs": [],
   "source": [
    "new_sample = {\n",
    "    'Outlook': 'Sunny',\n",
    "    'Temp': 75,\n",
    "    'Humidity': 70,\n",
    "    'Wind': 'Weak'\n",
    "}"
   ]
  },
  {
   "cell_type": "code",
   "execution_count": 8,
   "metadata": {},
   "outputs": [],
   "source": [
    "new_sample_df = pd.DataFrame([new_sample])"
   ]
  },
  {
   "cell_type": "code",
   "execution_count": 9,
   "metadata": {},
   "outputs": [
    {
     "data": {
      "text/html": [
       "<div>\n",
       "<style scoped>\n",
       "    .dataframe tbody tr th:only-of-type {\n",
       "        vertical-align: middle;\n",
       "    }\n",
       "\n",
       "    .dataframe tbody tr th {\n",
       "        vertical-align: top;\n",
       "    }\n",
       "\n",
       "    .dataframe thead th {\n",
       "        text-align: right;\n",
       "    }\n",
       "</style>\n",
       "<table border=\"1\" class=\"dataframe\">\n",
       "  <thead>\n",
       "    <tr style=\"text-align: right;\">\n",
       "      <th></th>\n",
       "      <th>Outlook</th>\n",
       "      <th>Temp</th>\n",
       "      <th>Humidity</th>\n",
       "      <th>Wind</th>\n",
       "    </tr>\n",
       "  </thead>\n",
       "  <tbody>\n",
       "    <tr>\n",
       "      <th>0</th>\n",
       "      <td>Sunny</td>\n",
       "      <td>75</td>\n",
       "      <td>70</td>\n",
       "      <td>Weak</td>\n",
       "    </tr>\n",
       "  </tbody>\n",
       "</table>\n",
       "</div>"
      ],
      "text/plain": [
       "  Outlook  Temp  Humidity  Wind\n",
       "0   Sunny    75        70  Weak"
      ]
     },
     "execution_count": 9,
     "metadata": {},
     "output_type": "execute_result"
    }
   ],
   "source": [
    "new_sample_df"
   ]
  },
  {
   "cell_type": "code",
   "execution_count": 10,
   "metadata": {},
   "outputs": [],
   "source": [
    "prediction = tree.predict(new_sample_df.iloc[0])"
   ]
  },
  {
   "cell_type": "code",
   "execution_count": 11,
   "metadata": {},
   "outputs": [
    {
     "data": {
      "text/plain": [
       "'No'"
      ]
     },
     "execution_count": 11,
     "metadata": {},
     "output_type": "execute_result"
    }
   ],
   "source": [
    "prediction"
   ]
  },
  {
   "cell_type": "markdown",
   "metadata": {},
   "source": [
    "#### Q2"
   ]
  },
  {
   "cell_type": "code",
   "execution_count": 12,
   "metadata": {},
   "outputs": [],
   "source": [
    "class DecisionTreeNode:\n",
    "    def __init__(self, attribute=None, value=None, left=None, right=None, label=None):\n",
    "        self.attribute = attribute\n",
    "        self.value = value\n",
    "        self.left = left\n",
    "        self.right = right\n",
    "        self.label = label  "
   ]
  },
  {
   "cell_type": "code",
   "execution_count": 13,
   "metadata": {},
   "outputs": [],
   "source": [
    "class DecisionTree:\n",
    "    def __init__(self):\n",
    "        self.root = None\n",
    "    def fit(self, data):\n",
    "        self.root = self.build_tree(data)\n",
    "    def gini_impurity(self, labels):\n",
    "        total_count = len(labels)\n",
    "        if total_count == 0:\n",
    "            return 0\n",
    "        proportions = labels.value_counts(normalize=True)\n",
    "        return 1 - sum(proportions ** 2)\n",
    "    def information_gain(self, data, split_attribute, target):\n",
    "        total_impurity = self.gini_impurity(data[target])\n",
    "        weighted_impurity = 0\n",
    "        for value in data[split_attribute].unique():\n",
    "            subset = data[data[split_attribute] == value]\n",
    "            weighted_impurity += (len(subset) / len(data)) * self.gini_impurity(subset[target])\n",
    "        return total_impurity - weighted_impurity\n",
    "    def best_split(self, data, target):\n",
    "        best_gain = -1\n",
    "        best_attribute = None\n",
    "        for attribute in data.columns[:-1]:\n",
    "            gain = self.information_gain(data, attribute, target)\n",
    "            if gain > best_gain:\n",
    "                best_gain = gain\n",
    "                best_attribute = attribute\n",
    "        return best_attribute\n",
    "    def build_tree(self, data):\n",
    "        target = data.columns[-1]\n",
    "        labels = data[target]\n",
    "        if len(labels.unique()) == 1:\n",
    "            return DecisionTreeNode(label=labels.iloc[0])\n",
    "        if len(data.columns) == 1:\n",
    "            return DecisionTreeNode(label=labels.mode()[0])\n",
    "        best_attribute = self.best_split(data, target)\n",
    "        node = DecisionTreeNode(attribute=best_attribute)\n",
    "        for value in data[best_attribute].unique():\n",
    "            subset = data[data[best_attribute] == value]\n",
    "            child_node = self.build_tree(subset.drop(columns=[best_attribute]))\n",
    "            if node.left is None:\n",
    "                node.left = child_node\n",
    "                node.value = value\n",
    "            else:\n",
    "                node.right = child_node\n",
    "        return node\n",
    "    def classify(self, node, sample):\n",
    "        if node.label is not None:\n",
    "            return node.label\n",
    "        attribute_value = sample[node.attribute]\n",
    "        if attribute_value == node.value:\n",
    "            return self.classify(node.left, sample) if node.left else node.label\n",
    "        else:\n",
    "            return self.classify(node.right, sample) if node.right else node.label\n",
    "    def predict(self, sample):\n",
    "        return self.classify(self.root, sample)"
   ]
  },
  {
   "cell_type": "code",
   "execution_count": 14,
   "metadata": {},
   "outputs": [],
   "source": [
    "tree = DecisionTree()\n",
    "tree.fit(df)"
   ]
  },
  {
   "cell_type": "code",
   "execution_count": 15,
   "metadata": {},
   "outputs": [],
   "source": [
    "prediction = tree.predict(new_sample_df.iloc[0])"
   ]
  },
  {
   "cell_type": "code",
   "execution_count": 16,
   "metadata": {},
   "outputs": [
    {
     "data": {
      "text/plain": [
       "'No'"
      ]
     },
     "execution_count": 16,
     "metadata": {},
     "output_type": "execute_result"
    }
   ],
   "source": [
    "prediction"
   ]
  },
  {
   "cell_type": "code",
   "execution_count": null,
   "metadata": {},
   "outputs": [],
   "source": []
  }
 ],
 "metadata": {
  "kernelspec": {
   "display_name": "Python 3",
   "language": "python",
   "name": "python3"
  },
  "language_info": {
   "codemirror_mode": {
    "name": "ipython",
    "version": 3
   },
   "file_extension": ".py",
   "mimetype": "text/x-python",
   "name": "python",
   "nbconvert_exporter": "python",
   "pygments_lexer": "ipython3",
   "version": "3.12.3"
  }
 },
 "nbformat": 4,
 "nbformat_minor": 2
}
